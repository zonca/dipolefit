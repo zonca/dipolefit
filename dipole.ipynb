{
 "metadata": {
  "name": ""
 },
 "nbformat": 3,
 "nbformat_minor": 0,
 "worksheets": [
  {
   "cells": [
    {
     "cell_type": "code",
     "collapsed": false,
     "input": [
      "import healpy as hp"
     ],
     "language": "python",
     "metadata": {},
     "outputs": []
    },
    {
     "cell_type": "code",
     "collapsed": false,
     "input": [
      "import pymc as mc\n",
      "import pandas as pd"
     ],
     "language": "python",
     "metadata": {},
     "outputs": []
    },
    {
     "cell_type": "code",
     "collapsed": false,
     "input": [
      "import patsy"
     ],
     "language": "python",
     "metadata": {},
     "outputs": []
    },
    {
     "cell_type": "code",
     "collapsed": false,
     "input": [
      "nside = 8\n",
      "npix = hp.nside2npix(nside)"
     ],
     "language": "python",
     "metadata": {},
     "outputs": []
    },
    {
     "cell_type": "code",
     "collapsed": false,
     "input": [
      "vectors = hp.pix2vec(nside, np.arange(npix))"
     ],
     "language": "python",
     "metadata": {},
     "outputs": []
    },
    {
     "cell_type": "code",
     "collapsed": false,
     "input": [
      "true_monopole = 1.\n",
      "true_dipole = np.array([.5, .5, 0])"
     ],
     "language": "python",
     "metadata": {},
     "outputs": []
    },
    {
     "cell_type": "code",
     "collapsed": false,
     "input": [
      "m = true_monopole + np.dot(true_dipole, vectors)\n",
      "m += np.random.normal(0, .1, len(m))"
     ],
     "language": "python",
     "metadata": {},
     "outputs": []
    },
    {
     "cell_type": "code",
     "collapsed": false,
     "input": [
      "hp.mollview(m)"
     ],
     "language": "python",
     "metadata": {},
     "outputs": []
    },
    {
     "cell_type": "code",
     "collapsed": false,
     "input": [
      "hp.fit_dipole(m)"
     ],
     "language": "python",
     "metadata": {},
     "outputs": []
    },
    {
     "cell_type": "code",
     "collapsed": false,
     "input": [
      "labels = [\"dx\", \"dy\", \"dz\"]\n",
      "data = pd.DataFrame({labels[i]:vectors[i] for i in range(3)})\n",
      "data.index.name = \"pix\"\n",
      "data[\"m\"] = m"
     ],
     "language": "python",
     "metadata": {},
     "outputs": []
    },
    {
     "cell_type": "code",
     "collapsed": false,
     "input": [
      "outcome, predictors = patsy.dmatrices(\"m ~ dx + dy + dz + 1\", data)\n",
      "betas = np.linalg.lstsq(predictors, outcome)[0].ravel()\n",
      "for name, beta in zip(predictors.design_info.column_names, betas):\n",
      "      print(\"%s: %s\" % (name, beta))"
     ],
     "language": "python",
     "metadata": {},
     "outputs": []
    },
    {
     "cell_type": "code",
     "collapsed": false,
     "input": [
      "import statsmodels.api as sm"
     ],
     "language": "python",
     "metadata": {},
     "outputs": []
    },
    {
     "cell_type": "code",
     "collapsed": false,
     "input": [
      "sm.OLS?"
     ],
     "language": "python",
     "metadata": {},
     "outputs": []
    },
    {
     "cell_type": "code",
     "collapsed": false,
     "input": [
      "sm.WLS?"
     ],
     "language": "python",
     "metadata": {},
     "outputs": []
    },
    {
     "cell_type": "code",
     "collapsed": false,
     "input": [
      "smresult = sm.WLS(outcome, predictors, weights=10).fit()\n",
      "print smresult.summary()"
     ],
     "language": "python",
     "metadata": {},
     "outputs": []
    },
    {
     "cell_type": "code",
     "collapsed": false,
     "input": [
      "import statsmodels.api as sm"
     ],
     "language": "python",
     "metadata": {},
     "outputs": []
    },
    {
     "cell_type": "code",
     "collapsed": false,
     "input": [
      "import statsmodels.formula.api as smf"
     ],
     "language": "python",
     "metadata": {},
     "outputs": []
    },
    {
     "cell_type": "code",
     "collapsed": false,
     "input": [
      "data.head()"
     ],
     "language": "python",
     "metadata": {},
     "outputs": []
    },
    {
     "cell_type": "code",
     "collapsed": false,
     "input": [
      "results = smf.ols(\"m ~ dx + dy + dz + 1\", data=data).fit()\n",
      "print results.summary()"
     ],
     "language": "python",
     "metadata": {},
     "outputs": []
    },
    {
     "cell_type": "code",
     "collapsed": false,
     "input": [
      "with mc.Model() as model:\n",
      "    mc.glm.glm(\"m ~ dx + dy + dz + 1\", data)\n",
      "    step = mc.NUTS() # Instantiate MCMC sampling algorithm\n",
      "    trace = mc.sample(2000, step) # draw "
     ],
     "language": "python",
     "metadata": {},
     "outputs": []
    },
    {
     "cell_type": "code",
     "collapsed": false,
     "input": [
      "from pymc.plots import MultiTrace, kdeplot_op\n",
      "vars = trace.varnames\n",
      "\n",
      "if isinstance(trace, MultiTrace):\n",
      "    trace = trace.combined()\n",
      "\n",
      "n = len(vars)\n",
      "f, ax = subplots(n, 2, squeeze=False, figsize=(15,15))\n",
      "\n",
      "for i, v in enumerate(vars):\n",
      "    d = np.squeeze(trace[v])\n",
      "\n",
      "    if trace[v].dtype.kind == 'i':\n",
      "        ax[i, 0].hist(d, bins=sqrt(d.size))\n",
      "    else:\n",
      "        kdeplot_op(ax[i, 0], d)\n",
      "    ax[i, 0].set_title(str(v))\n",
      "    ax[i, 1].plot(d, alpha=.35)\n",
      "\n",
      "    ax[i, 0].set_ylabel(\"frequency\")\n",
      "    ax[i, 1].set_ylabel(\"sample value\")\n",
      "\n",
      "plt.tight_layout()"
     ],
     "language": "python",
     "metadata": {},
     "outputs": []
    },
    {
     "cell_type": "code",
     "collapsed": false,
     "input": [],
     "language": "python",
     "metadata": {},
     "outputs": []
    }
   ],
   "metadata": {}
  }
 ]
}